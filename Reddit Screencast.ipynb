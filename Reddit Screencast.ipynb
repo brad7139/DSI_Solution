{
 "cells": [
  {
   "cell_type": "code",
   "execution_count": 56,
   "metadata": {},
   "outputs": [],
   "source": [
    "import requests\n",
    "import pandas as pd"
   ]
  },
  {
   "cell_type": "code",
   "execution_count": 57,
   "metadata": {},
   "outputs": [],
   "source": [
    "url = 'https://www.reddit.com/r/boardgames.json'"
   ]
  },
  {
   "cell_type": "code",
   "execution_count": 60,
   "metadata": {},
   "outputs": [],
   "source": [
    "res = requests.get(url, headers={'User-agent': 'Riley 1.0'})"
   ]
  },
  {
   "cell_type": "code",
   "execution_count": 61,
   "metadata": {},
   "outputs": [
    {
     "data": {
      "text/plain": [
       "200"
      ]
     },
     "execution_count": 61,
     "metadata": {},
     "output_type": "execute_result"
    }
   ],
   "source": [
    "res.status_code"
   ]
  },
  {
   "cell_type": "code",
   "execution_count": 63,
   "metadata": {},
   "outputs": [],
   "source": [
    "reddit_dict = res.json()"
   ]
  },
  {
   "cell_type": "code",
   "execution_count": 66,
   "metadata": {},
   "outputs": [
    {
     "data": {
      "text/plain": [
       "dict_keys(['kind', 'data'])"
      ]
     },
     "execution_count": 66,
     "metadata": {},
     "output_type": "execute_result"
    }
   ],
   "source": [
    "reddit_dict.keys()"
   ]
  },
  {
   "cell_type": "code",
   "execution_count": 69,
   "metadata": {},
   "outputs": [
    {
     "data": {
      "text/plain": [
       "dict_keys(['modhash', 'dist', 'children', 'after', 'before'])"
      ]
     },
     "execution_count": 69,
     "metadata": {},
     "output_type": "execute_result"
    }
   ],
   "source": [
    "reddit_dict['data'].keys()"
   ]
  },
  {
   "cell_type": "code",
   "execution_count": 71,
   "metadata": {},
   "outputs": [
    {
     "data": {
      "text/plain": [
       "26"
      ]
     },
     "execution_count": 71,
     "metadata": {},
     "output_type": "execute_result"
    }
   ],
   "source": [
    "len(reddit_dict['data']['children'])"
   ]
  },
  {
   "cell_type": "code",
   "execution_count": 73,
   "metadata": {},
   "outputs": [
    {
     "data": {
      "text/plain": [
       "dict_keys(['kind', 'data'])"
      ]
     },
     "execution_count": 73,
     "metadata": {},
     "output_type": "execute_result"
    }
   ],
   "source": [
    "reddit_dict['data']['children'][0].keys()"
   ]
  },
  {
   "cell_type": "code",
   "execution_count": 78,
   "metadata": {},
   "outputs": [
    {
     "data": {
      "text/plain": [
       "'**Welcome to /r/boardgames Daily Discussion and Game Recommendations**\\n\\nThis is meant to be a place where you can ask any and all questions relating to the board gaming world: general or specific game recommendations, rule clarifications, definitions of terms/acronyms, and other quick questions that might not warrant their own post. \\n\\nIf you are seeking game recommendations you will get better responses if you give us enough background to help you. You can use [this template](https://www.reddit.com/r/boardgames/wiki/personalized-game-recommendation-template-no-explainer) to do so. [Here](https://www.reddit.com/r/boardgames/wiki/personalized-game-recommendation-template) is a version with explanations of what we\\'re looking for.  \\n\\nIf you reply to any comment that has a game name in **bold** with \"**/u/r2d8 getparentinfo**\", one of our robots will tell you more about the game\\n\\nJust remember that this is a community full of awesome, helpful people, and feel free to ask your questions whatever they may be. As always, keep it civil and remember what the downvote button is actually for.\\n\\n\\nLastly, here are some of the resources available at /r/boardgames:\\n\\n* If you are new here, be sure to check out our [Community Guidelines](https://www.reddit.com/r/boardgames/wiki/community)\\n* If you are looking for a game recommendation, make sure to read our [What Should I Get Wiki](https://www.reddit.com/r/boardgames/wiki/wsig)\\n* If asking people for recommendations is too interactive: [The Automated Recommendations Robot is here for you](https://www.reddit.com/r/boardgames/wiki/wsig#wiki_ask_a_robot_for_a_list_of_recommendations).\\n* Also take a look at our [Wiki Index](https://www.reddit.com/r/boardgames/wiki/index) for various other resources and information.\\n* Any questions about game design can be answered here, but also visit /r/tabletopgamedesign\\n* Any discussions about the subreddit itself should be contained in /r/metaboardgames\\n\\n*If you use the boardgamerecommender bot in this thread, please reply to the stickied top comment in order to avoid cluttering up the posts.*\\n\\nHappy gaming!\\n'"
      ]
     },
     "execution_count": 78,
     "metadata": {},
     "output_type": "execute_result"
    }
   ],
   "source": [
    "reddit_dict['data']['children'][0]['data']['selftext']"
   ]
  },
  {
   "cell_type": "code",
   "execution_count": 80,
   "metadata": {},
   "outputs": [],
   "source": [
    "posts = [p['data'] for p in reddit_dict['data']['children']]"
   ]
  },
  {
   "cell_type": "code",
   "execution_count": 84,
   "metadata": {},
   "outputs": [
    {
     "data": {
      "text/plain": [
       "0     t3_9ao9i2\n",
       "1     t3_9aphuw\n",
       "2     t3_9aprdt\n",
       "3     t3_9anv9s\n",
       "4     t3_9aiz9c\n",
       "5     t3_9ardpy\n",
       "6     t3_9aqt7b\n",
       "7     t3_9aqjmz\n",
       "8     t3_9apmrb\n",
       "9     t3_9apsg4\n",
       "10    t3_9aqu7t\n",
       "11    t3_9aqwbu\n",
       "12    t3_9anb2d\n",
       "13    t3_9amiay\n",
       "14    t3_9alqvd\n",
       "15    t3_9ahv1i\n",
       "16    t3_9arr1u\n",
       "17    t3_9arpt4\n",
       "18    t3_9armwx\n",
       "19    t3_9aov4z\n",
       "20    t3_9aqirl\n",
       "21    t3_9aqg98\n",
       "22    t3_9ai1q0\n",
       "23    t3_9al2du\n",
       "24    t3_9ajlvq\n",
       "25    t3_9aq4ns\n",
       "Name: name, dtype: object"
      ]
     },
     "execution_count": 84,
     "metadata": {},
     "output_type": "execute_result"
    }
   ],
   "source": [
    "pd.DataFrame(posts)['name']"
   ]
  },
  {
   "cell_type": "code",
   "execution_count": 82,
   "metadata": {},
   "outputs": [
    {
     "data": {
      "text/plain": [
       "'t3_9aq4ns'"
      ]
     },
     "execution_count": 82,
     "metadata": {},
     "output_type": "execute_result"
    }
   ],
   "source": [
    "reddit_dict['data']['after']"
   ]
  },
  {
   "cell_type": "code",
   "execution_count": 85,
   "metadata": {},
   "outputs": [
    {
     "data": {
      "text/plain": [
       "'https://www.reddit.com/r/boardgames.json?after=t3_9aq4ns'"
      ]
     },
     "execution_count": 85,
     "metadata": {},
     "output_type": "execute_result"
    }
   ],
   "source": [
    "url + '?after=' + reddit_dict['data']['after']"
   ]
  },
  {
   "cell_type": "code",
   "execution_count": 86,
   "metadata": {},
   "outputs": [
    {
     "data": {
      "text/plain": [
       "'https://www.reddit.com/r/boardgames.json'"
      ]
     },
     "execution_count": 86,
     "metadata": {},
     "output_type": "execute_result"
    }
   ],
   "source": [
    "url"
   ]
  },
  {
   "cell_type": "code",
   "execution_count": 93,
   "metadata": {},
   "outputs": [
    {
     "name": "stdout",
     "output_type": "stream",
     "text": [
      "https://www.reddit.com/r/boardgames.json\n",
      "https://www.reddit.com/r/boardgames.json?after=t3_9ajlvq\n",
      "https://www.reddit.com/r/boardgames.json?after=t3_9afwyd\n",
      "https://www.reddit.com/r/boardgames.json?after=t3_9adlvs\n"
     ]
    }
   ],
   "source": [
    "posts = []\n",
    "after = None\n",
    "\n",
    "for i in range(4):\n",
    "    if after == None:\n",
    "        current_url = url\n",
    "    else:\n",
    "        current_url = url + '?after=' + after\n",
    "    print(current_url)\n",
    "    res = requests.get(current_url, headers={'User-agent': 'Foo Bar 1.0'})\n",
    "    if res.status_code != 200:\n",
    "        print('Status error', res.status_code)\n",
    "        break\n",
    "    current_dict = res.json()\n",
    "    current_posts = [p['data'] for p in current_dict['data']['children']]\n",
    "    posts.extend(current_posts)\n",
    "    after = current_dict['data']['after']\n",
    "    \n",
    "    time.sleep(2)"
   ]
  },
  {
   "cell_type": "code",
   "execution_count": 94,
   "metadata": {},
   "outputs": [
    {
     "data": {
      "text/plain": [
       "101"
      ]
     },
     "execution_count": 94,
     "metadata": {},
     "output_type": "execute_result"
    }
   ],
   "source": [
    "len(posts)"
   ]
  },
  {
   "cell_type": "code",
   "execution_count": null,
   "metadata": {},
   "outputs": [],
   "source": []
  }
 ],
 "metadata": {
  "kernelspec": {
   "display_name": "Python 3",
   "language": "python",
   "name": "python3"
  },
  "language_info": {
   "codemirror_mode": {
    "name": "ipython",
    "version": 3
   },
   "file_extension": ".py",
   "mimetype": "text/x-python",
   "name": "python",
   "nbconvert_exporter": "python",
   "pygments_lexer": "ipython3",
   "version": "3.6.6"
  }
 },
 "nbformat": 4,
 "nbformat_minor": 2
}
